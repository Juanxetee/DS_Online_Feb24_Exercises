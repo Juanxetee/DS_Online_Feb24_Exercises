{
 "cells": [
  {
   "cell_type": "markdown",
   "metadata": {},
   "source": [
    "![imagen](./img/ejercicios.png)"
   ]
  },
  {
   "cell_type": "markdown",
   "metadata": {},
   "source": [
    "# INFORMACIÓN DEL PROYECTO"
   ]
  },
  {
   "cell_type": "markdown",
   "metadata": {},
   "source": [
    "### TÍTULO"
   ]
  },
  {
   "cell_type": "code",
   "execution_count": 43,
   "metadata": {},
   "outputs": [],
   "source": [
    "#Escribe el título del proyecto en Markdown\n",
    "titulo = \"Hazte con el mejor!\""
   ]
  },
  {
   "cell_type": "markdown",
   "metadata": {},
   "source": [
    "### TEMA"
   ]
  },
  {
   "cell_type": "code",
   "execution_count": 44,
   "metadata": {},
   "outputs": [],
   "source": [
    "# Describe brevemente el tema del proyecto en Markdown\n",
    "tema = \"Pokémon\""
   ]
  },
  {
   "cell_type": "markdown",
   "metadata": {},
   "source": [
    "### HIPÓTESIS"
   ]
  },
  {
   "cell_type": "markdown",
   "metadata": {},
   "source": [
    "Define aquí lo que será la hipótesis de tu proyecto.\n",
    "Deberás tener más de una, pero tu proyecto lo harás teniendo una principal hipótesis."
   ]
  },
  {
   "cell_type": "code",
   "execution_count": null,
   "metadata": {},
   "outputs": [],
   "source": [
    "# Escribe tu hipótesis principal en Markdown\n",
    "hipotesis_1 = \"pokémon más popular a lo largo del tiempo\".."
   ]
  },
  {
   "cell_type": "code",
   "execution_count": 46,
   "metadata": {},
   "outputs": [],
   "source": [
    "# Escribe más hipótesis si las hubiera en Markdown\n",
    "# hipotesis_2 = \"generacion pokemon que más gusta\"\n",
    "# hipotesis_3 = \"relacion entre estadisticas y el tipo de pokemon\"\n",
    "# hipotesis_4 = \"relación que tiene el cambio en la apariencia de los pokemon a lo largo del tiempo con su grado de aceptacion\"\n",
    "# hipotesis_5 = \"tipo mas comun\"\n",
    "# hipotesis_6 =  'Rareza de los pokemon legendarios'\n",
    "# hipotesis_7 = 'relacion 'tier list' con las caracteristicas del pokemon, solo los mejores tienen sitio en el competitivo?'\n"
   ]
  },
  {
   "cell_type": "markdown",
   "metadata": {},
   "source": [
    "## OBTENCIÓN DE LOS DATOS"
   ]
  },
  {
   "cell_type": "markdown",
   "metadata": {},
   "source": [
    "### DATASETS Y FUENTES ALTERNATIVAS DE DATOS"
   ]
  },
  {
   "cell_type": "markdown",
   "metadata": {},
   "source": [
    "Incluye aquí una vista del dataset o datasets de los que partirás para poder evaluar tu hipótesis. <br>\n",
    "También incluye el origen de estos datos y su fuente."
   ]
  },
  {
   "cell_type": "code",
   "execution_count": 14,
   "metadata": {},
   "outputs": [
    {
     "data": {
      "text/html": [
       "<div>\n",
       "<style scoped>\n",
       "    .dataframe tbody tr th:only-of-type {\n",
       "        vertical-align: middle;\n",
       "    }\n",
       "\n",
       "    .dataframe tbody tr th {\n",
       "        vertical-align: top;\n",
       "    }\n",
       "\n",
       "    .dataframe thead th {\n",
       "        text-align: right;\n",
       "    }\n",
       "</style>\n",
       "<table border=\"1\" class=\"dataframe\">\n",
       "  <thead>\n",
       "    <tr style=\"text-align: right;\">\n",
       "      <th></th>\n",
       "      <th>ID</th>\n",
       "      <th>Nombre</th>\n",
       "      <th>Altura</th>\n",
       "      <th>Peso</th>\n",
       "      <th>Tipos</th>\n",
       "      <th>Habilidades</th>\n",
       "      <th>Estadisticas</th>\n",
       "      <th>Movimientos</th>\n",
       "    </tr>\n",
       "  </thead>\n",
       "  <tbody>\n",
       "    <tr>\n",
       "      <th>0</th>\n",
       "      <td>1</td>\n",
       "      <td>bulbasaur</td>\n",
       "      <td>7</td>\n",
       "      <td>69</td>\n",
       "      <td>[grass, poison]</td>\n",
       "      <td>[overgrow, chlorophyll]</td>\n",
       "      <td>{'hp': 45, 'attack': 49, 'defense': 49, 'speci...</td>\n",
       "      <td>[razor-wind, swords-dance, cut, bind, vine-whi...</td>\n",
       "    </tr>\n",
       "    <tr>\n",
       "      <th>1</th>\n",
       "      <td>2</td>\n",
       "      <td>ivysaur</td>\n",
       "      <td>10</td>\n",
       "      <td>130</td>\n",
       "      <td>[grass, poison]</td>\n",
       "      <td>[overgrow, chlorophyll]</td>\n",
       "      <td>{'hp': 60, 'attack': 62, 'defense': 63, 'speci...</td>\n",
       "      <td>[swords-dance, cut, bind, vine-whip, headbutt,...</td>\n",
       "    </tr>\n",
       "    <tr>\n",
       "      <th>2</th>\n",
       "      <td>3</td>\n",
       "      <td>venusaur</td>\n",
       "      <td>20</td>\n",
       "      <td>1000</td>\n",
       "      <td>[grass, poison]</td>\n",
       "      <td>[overgrow, chlorophyll]</td>\n",
       "      <td>{'hp': 80, 'attack': 82, 'defense': 83, 'speci...</td>\n",
       "      <td>[swords-dance, cut, bind, vine-whip, headbutt,...</td>\n",
       "    </tr>\n",
       "    <tr>\n",
       "      <th>3</th>\n",
       "      <td>4</td>\n",
       "      <td>charmander</td>\n",
       "      <td>6</td>\n",
       "      <td>85</td>\n",
       "      <td>[fire]</td>\n",
       "      <td>[blaze, solar-power]</td>\n",
       "      <td>{'hp': 39, 'attack': 52, 'defense': 43, 'speci...</td>\n",
       "      <td>[mega-punch, fire-punch, thunder-punch, scratc...</td>\n",
       "    </tr>\n",
       "    <tr>\n",
       "      <th>4</th>\n",
       "      <td>5</td>\n",
       "      <td>charmeleon</td>\n",
       "      <td>11</td>\n",
       "      <td>190</td>\n",
       "      <td>[fire]</td>\n",
       "      <td>[blaze, solar-power]</td>\n",
       "      <td>{'hp': 58, 'attack': 64, 'defense': 58, 'speci...</td>\n",
       "      <td>[mega-punch, fire-punch, thunder-punch, scratc...</td>\n",
       "    </tr>\n",
       "    <tr>\n",
       "      <th>...</th>\n",
       "      <td>...</td>\n",
       "      <td>...</td>\n",
       "      <td>...</td>\n",
       "      <td>...</td>\n",
       "      <td>...</td>\n",
       "      <td>...</td>\n",
       "      <td>...</td>\n",
       "      <td>...</td>\n",
       "    </tr>\n",
       "    <tr>\n",
       "      <th>893</th>\n",
       "      <td>894</td>\n",
       "      <td>regieleki</td>\n",
       "      <td>12</td>\n",
       "      <td>1450</td>\n",
       "      <td>[electric]</td>\n",
       "      <td>[transistor]</td>\n",
       "      <td>{'hp': 80, 'attack': 100, 'defense': 50, 'spec...</td>\n",
       "      <td>[body-slam, take-down, thrash, hyper-beam, thu...</td>\n",
       "    </tr>\n",
       "    <tr>\n",
       "      <th>894</th>\n",
       "      <td>895</td>\n",
       "      <td>regidrago</td>\n",
       "      <td>21</td>\n",
       "      <td>2000</td>\n",
       "      <td>[dragon]</td>\n",
       "      <td>[dragons-maw]</td>\n",
       "      <td>{'hp': 200, 'attack': 100, 'defense': 50, 'spe...</td>\n",
       "      <td>[vice-grip, body-slam, take-down, thrash, bite...</td>\n",
       "    </tr>\n",
       "    <tr>\n",
       "      <th>895</th>\n",
       "      <td>896</td>\n",
       "      <td>glastrier</td>\n",
       "      <td>22</td>\n",
       "      <td>8000</td>\n",
       "      <td>[ice]</td>\n",
       "      <td>[chilling-neigh]</td>\n",
       "      <td>{'hp': 100, 'attack': 145, 'defense': 130, 'sp...</td>\n",
       "      <td>[swords-dance, stomp, double-kick, tackle, bod...</td>\n",
       "    </tr>\n",
       "    <tr>\n",
       "      <th>896</th>\n",
       "      <td>897</td>\n",
       "      <td>spectrier</td>\n",
       "      <td>20</td>\n",
       "      <td>445</td>\n",
       "      <td>[ghost]</td>\n",
       "      <td>[grim-neigh]</td>\n",
       "      <td>{'hp': 100, 'attack': 65, 'defense': 60, 'spec...</td>\n",
       "      <td>[stomp, double-kick, tackle, body-slam, take-d...</td>\n",
       "    </tr>\n",
       "    <tr>\n",
       "      <th>897</th>\n",
       "      <td>898</td>\n",
       "      <td>calyrex</td>\n",
       "      <td>11</td>\n",
       "      <td>77</td>\n",
       "      <td>[psychic, grass]</td>\n",
       "      <td>[unnerve]</td>\n",
       "      <td>{'hp': 100, 'attack': 80, 'defense': 80, 'spec...</td>\n",
       "      <td>[pound, pay-day, take-down, psybeam, hyper-bea...</td>\n",
       "    </tr>\n",
       "  </tbody>\n",
       "</table>\n",
       "<p>898 rows × 8 columns</p>\n",
       "</div>"
      ],
      "text/plain": [
       "      ID      Nombre  Altura  Peso             Tipos              Habilidades  \\\n",
       "0      1   bulbasaur       7    69   [grass, poison]  [overgrow, chlorophyll]   \n",
       "1      2     ivysaur      10   130   [grass, poison]  [overgrow, chlorophyll]   \n",
       "2      3    venusaur      20  1000   [grass, poison]  [overgrow, chlorophyll]   \n",
       "3      4  charmander       6    85            [fire]     [blaze, solar-power]   \n",
       "4      5  charmeleon      11   190            [fire]     [blaze, solar-power]   \n",
       "..   ...         ...     ...   ...               ...                      ...   \n",
       "893  894   regieleki      12  1450        [electric]             [transistor]   \n",
       "894  895   regidrago      21  2000          [dragon]            [dragons-maw]   \n",
       "895  896   glastrier      22  8000             [ice]         [chilling-neigh]   \n",
       "896  897   spectrier      20   445           [ghost]             [grim-neigh]   \n",
       "897  898     calyrex      11    77  [psychic, grass]                [unnerve]   \n",
       "\n",
       "                                          Estadisticas  \\\n",
       "0    {'hp': 45, 'attack': 49, 'defense': 49, 'speci...   \n",
       "1    {'hp': 60, 'attack': 62, 'defense': 63, 'speci...   \n",
       "2    {'hp': 80, 'attack': 82, 'defense': 83, 'speci...   \n",
       "3    {'hp': 39, 'attack': 52, 'defense': 43, 'speci...   \n",
       "4    {'hp': 58, 'attack': 64, 'defense': 58, 'speci...   \n",
       "..                                                 ...   \n",
       "893  {'hp': 80, 'attack': 100, 'defense': 50, 'spec...   \n",
       "894  {'hp': 200, 'attack': 100, 'defense': 50, 'spe...   \n",
       "895  {'hp': 100, 'attack': 145, 'defense': 130, 'sp...   \n",
       "896  {'hp': 100, 'attack': 65, 'defense': 60, 'spec...   \n",
       "897  {'hp': 100, 'attack': 80, 'defense': 80, 'spec...   \n",
       "\n",
       "                                           Movimientos  \n",
       "0    [razor-wind, swords-dance, cut, bind, vine-whi...  \n",
       "1    [swords-dance, cut, bind, vine-whip, headbutt,...  \n",
       "2    [swords-dance, cut, bind, vine-whip, headbutt,...  \n",
       "3    [mega-punch, fire-punch, thunder-punch, scratc...  \n",
       "4    [mega-punch, fire-punch, thunder-punch, scratc...  \n",
       "..                                                 ...  \n",
       "893  [body-slam, take-down, thrash, hyper-beam, thu...  \n",
       "894  [vice-grip, body-slam, take-down, thrash, bite...  \n",
       "895  [swords-dance, stomp, double-kick, tackle, bod...  \n",
       "896  [stomp, double-kick, tackle, body-slam, take-d...  \n",
       "897  [pound, pay-day, take-down, psybeam, hyper-bea...  \n",
       "\n",
       "[898 rows x 8 columns]"
      ]
     },
     "execution_count": 14,
     "metadata": {},
     "output_type": "execute_result"
    }
   ],
   "source": [
    "import pandas as pd\n",
    "from pokepy import V2Client\n",
    "\n",
    "# Crear un cliente pokepy\n",
    "client = V2Client()\n",
    "\n",
    "# Lista para almacenar los datos de los Pokémon\n",
    "datos_pokemon = []\n",
    "\n",
    "# Iterar sobre todos los Pokémon (ID 1 a 898)\n",
    "for id_pokemon in range(1, 899):\n",
    "    # Obtener información sobre el Pokémon actual\n",
    "    pokemon_lista = client.get_pokemon(id_pokemon)\n",
    "    \n",
    "    # Iterar sobre la lista de Pokémon obtenida\n",
    "    for pokemon in pokemon_lista:\n",
    "        # Extraer los datos relevantes del Pokémon\n",
    "        datos_pokemon.append({\n",
    "            \"ID\": pokemon.id,\n",
    "            \"Nombre\": pokemon.name,\n",
    "            \"Altura\": pokemon.height,\n",
    "            \"Peso\": pokemon.weight,\n",
    "            \"Tipos\": [tipo.type.name for tipo in pokemon.types],\n",
    "            \"Habilidades\": [habilidad.ability.name for habilidad in pokemon.abilities],\n",
    "            \"Estadisticas\": {\n",
    "                stat.stat.name: stat.base_stat for stat in pokemon.stats\n",
    "            },\n",
    "            \"Movimientos\": [movimiento.move.name for movimiento in pokemon.moves]\n",
    "        })\n",
    "\n",
    "# Crear un DataFrame con los datos de los Pokémon\n",
    "df_pokemon = pd.DataFrame(datos_pokemon)\n",
    "\n",
    "# Mostrar las primeras filas del DataFrame\n",
    "df_pokemon\n",
    "\n",
    "\n"
   ]
  },
  {
   "cell_type": "code",
   "execution_count": 42,
   "metadata": {},
   "outputs": [],
   "source": [
    "# import pokebase as pb\n",
    "# import pandas as pd\n",
    "\n",
    "# # Crear una lista para almacenar los datos de los Pokémon\n",
    "# pokemon_data = []\n",
    "\n",
    "# # Iterar sobre todos los Pokémon disponibles\n",
    "# for pokemon_id in range(1, 899):  # Hay un total de 898 Pokémon en la Pokédex nacional\n",
    "#     pokemon = pb.pokemon(pokemon_id)\n",
    "\n",
    "#     # Obtener los datos del Pokémon actual\n",
    "#     pokemon_info = {\n",
    "#         \"ID\": pokemon_id,\n",
    "#         \"Nombre\": pokemon.name,\n",
    "#         \"Altura\": pokemon.height,\n",
    "#         \"Peso\": pokemon.weight,\n",
    "#         \"Tipos\": [tipo.type.name for tipo in pokemon.types],\n",
    "#         \"Habilidades\": [habilidad.ability.name for habilidad in pokemon.abilities],\n",
    "#         \"Estadísticas\": {stat.stat.name: stat.base_stat for stat in pokemon.stats},\n",
    "#         \"Movimientos\": [movimiento.move.name for movimiento in pokemon.moves]\n",
    "#     }\n",
    "\n",
    "#     # Agregar los datos del Pokémon a la lista\n",
    "#     pokemon_data.append(pokemon_info)\n",
    "\n",
    "# # Crear un DataFrame a partir de la lista de datos de Pokémon\n",
    "# df_pokemon = pd.DataFrame(pokemon_data)\n",
    "\n",
    "# # Mostrar el DataFrame\n",
    "# df_pokemon\n",
    "\n"
   ]
  },
  {
   "cell_type": "code",
   "execution_count": null,
   "metadata": {},
   "outputs": [],
   "source": [
    "import pandas as pd\n",
    "# guarda en variables los datasets y su fuente\n",
    "df_pokemon = pd.DataFrame(datos_pokemon)\n",
    "fuente_1 = \"https://pokeapi.co/\"\n",
    "# df_2 = pd.DataFrame()\n",
    "# fuente_2 = \"\"\n",
    "# df_3 = pd.DataFrame()\n",
    "# fuente_3 = \"\"\n",
    "# df_4 = pd.DataFrame()\n",
    "# fuente_4 = \"\"\n",
    "# df_5 = pd.DataFrame()\n",
    "# fuente_5 = \"\"\n",
    "# ..."
   ]
  },
  {
   "cell_type": "markdown",
   "metadata": {},
   "source": [
    "Muestra mediante un head() los principales datasets con los que vas a trabajar"
   ]
  },
  {
   "cell_type": "code",
   "execution_count": null,
   "metadata": {},
   "outputs": [],
   "source": [
    "# Primer dataset\n",
    "# df_1.head()"
   ]
  },
  {
   "cell_type": "code",
   "execution_count": null,
   "metadata": {},
   "outputs": [],
   "source": [
    "# Siguiente dataset...\n",
    "# df_2.head()"
   ]
  }
 ],
 "metadata": {
  "kernelspec": {
   "display_name": "Python 3.7.4 64-bit",
   "language": "python",
   "name": "python3"
  },
  "language_info": {
   "codemirror_mode": {
    "name": "ipython",
    "version": 3
   },
   "file_extension": ".py",
   "mimetype": "text/x-python",
   "name": "python",
   "nbconvert_exporter": "python",
   "pygments_lexer": "ipython3",
   "version": "3.12.1"
  },
  "orig_nbformat": 4,
  "vscode": {
   "interpreter": {
    "hash": "90139cb9a825bf3d63f6f6704e828dbd1ff7edbd4d0c6e906a71235d6efc74af"
   }
  }
 },
 "nbformat": 4,
 "nbformat_minor": 2
}
